{
 "cells": [
  {
   "cell_type": "markdown",
   "metadata": {},
   "source": [
    "## Look for these snips in app.py and flavor_frontend.js and follow where they go:"
   ]
  },
  {
   "cell_type": "markdown",
   "metadata": {},
   "source": [
    "# Backend:"
   ]
  },
  {
   "cell_type": "markdown",
   "metadata": {},
   "source": [
    "In your app.py at some point write or generate a list for the drop down items."
   ]
  },
  {
   "cell_type": "code",
   "execution_count": null,
   "metadata": {},
   "outputs": [],
   "source": [
    "strict_restaurant_categories = [\n",
    "    \"Restaurants\", \"American (Traditional)\", \"American (New)\", \"Italian\", \n",
    "    \"Mexican\", \"Chinese\", \"Japanese\", \"Thai\", \"Vietnamese\", \"Indian\", \"Korean\", \n",
    "    \"Mediterranean\", \"Greek\", \"French\", \"Spanish\", \"German\", \"Irish\", \"British\", \n",
    "    \"Seafood\", \"Steakhouses\", \"Pizza\", \"Burgers\", \"Sushi Bars\", \n",
    "    \"Barbeque\", \"Asian Fusion\", \"Diners\", \"Breakfast & Brunch\", \n",
    "    \"Buffets\", \"Comfort Food\", \"Soul Food\", \"Southern\", \n",
    "    \"Tex-Mex\", \"Cajun/Creole\", \"Latin American\", \"Middle Eastern\", \"African\", \n",
    "    \"Caribbean\", \"Brazilian\", \"Peruvian\", \"Cuban\", \"Tapas Bars\", \"Gastropubs\",\n",
    "    \"Izakaya\", \"Ramen\", \"Poke\", \"Hot Pot\", \"Dim Sum\", \"Fondue\",\n",
    "    \"Fish & Chips\", \"Bistros\", \"Brasseries\",\n",
    "    \"Donairs\", \"Kebab\", \"Falafel\", \"Tacos\", \"Cheesesteaks\"\n",
    "]"
   ]
  },
  {
   "cell_type": "markdown",
   "metadata": {},
   "source": [
    "Setup a flask server specifically for the list of dropdown items, in addition to the one you make for your query:"
   ]
  },
  {
   "cell_type": "code",
   "execution_count": null,
   "metadata": {},
   "outputs": [],
   "source": [
    "# Setup flask api routes\n",
    "@app.route('/categories', methods=['GET'])\n",
    "def get_categories():\n",
    "    return jsonify({\n",
    "        'strict_restaurant_categories': strict_restaurant_categories\n",
    "    })"
   ]
  },
  {
   "cell_type": "markdown",
   "metadata": {},
   "source": [
    "# Frontend/html: "
   ]
  },
  {
   "cell_type": "markdown",
   "metadata": {},
   "source": [
    "In your front end call the route for your list to bring over your categories list and the values to a variable in an array. Create a variable for your drop down that calls to the dropdown element on your .htlm."
   ]
  },
  {
   "cell_type": "code",
   "execution_count": null,
   "metadata": {
    "vscode": {
     "languageId": "javascript"
    }
   },
   "outputs": [],
   "source": [
    "// Fetch the list of categories from Flask API and populate the dropdown\n",
    "\n",
    "// call the flask route for your list\n",
    "fetch('/categories')\n",
    "// turn it into a json\n",
    "    .then(response => response.json())     \n",
    "    //put the values into an array and tie it to a variable                 \n",
    "    .then(data => {\n",
    "        const categories = data.strict_restaurant_categories;                    \n",
    "        const dropdown = document.getElementById('category-dropdown');  // <<<<<<<<<<<< call your dropdown element from your html and assign that a variable too\n",
    "\n",
    "        // Add each category as an option to the dropdown\n",
    "        categories.forEach(category => {\n",
    "            const option = document.createElement('option'); // <<<<<<<<<<<<<<<   this adds them each as an option in the drop down\n",
    "            option.value = category;\n",
    "            option.textContent = category;  // <<<<<<<<<<<<<<this assigns the display name in the dropdown.\n",
    "            dropdown.appendChild(option); \n",
    "        });\n",
    "    });"
   ]
  },
  {
   "cell_type": "markdown",
   "metadata": {},
   "source": [
    "\n",
    " In the html the dropdown element is a select element. This is what makes it a drop down and tracks what gets clicked on:"
   ]
  },
  {
   "cell_type": "code",
   "execution_count": null,
   "metadata": {
    "vscode": {
     "languageId": "html"
    }
   },
   "outputs": [],
   "source": [
    "<!-- Dropdown for selecting categories -->\n",
    "            <select id=\"category-dropdown\">\n",
    "            </select>      //    <<<<<<<<<<<<<<<<< you can add a line between the select's for adding text to the dropdown display  etc."
   ]
  },
  {
   "cell_type": "markdown",
   "metadata": {},
   "source": [
    "In the javascript you can use an event listener and tie it to the html element. You can listen for when the value in the dropdown gets changed by the user, set the new selection as a variable and then use it in queries. Anything that you put inside the block of the event listener will get triggered when the event listener gets triggered. "
   ]
  },
  {
   "cell_type": "code",
   "execution_count": null,
   "metadata": {
    "vscode": {
     "languageId": "javascript"
    }
   },
   "outputs": [],
   "source": [
    "// Event listener for dropdown changes\n",
    "document.getElementById('category-dropdown').addEventListener('change', function() {  // <<<<<<<<<<<< listen for the dropdown to change\n",
    "    const selectedCategory = this.value; // <<<<<<<<<<<<<<<<<<<<<<<<<<<<<<<<<capture the value it changed to\n",
    "    function updatePieChart(data, selectedCity, selectedCategory) {   //<<<<<<<<<<<<< add anything else that you want to happen when the dropdown selection is changed and keep it inside the event listener code block.\n",
    "        // Get the state of the selected city\n",
    "        const cityState = data.find(r => r.city === selectedCity).state;\n",
    "        \n",
    "        // Get all restaurants in the selected city\n",
    "        const cityRestaurants = data.filter(r => r.city === selectedCity);\n",
    "    \n",
    "        // Count all categories in the city\n",
    "        const categoryCount = {};\n",
    "        cityRestaurants.forEach(restaurant => {\n",
    "            const categories = restaurant.categories.split(', ');\n",
    "            categories.forEach(category => {\n",
    "                if (categoryCount[category]) {\n",
    "                    categoryCount[category] += 1;\n",
    "                } else {\n",
    "                    categoryCount[category] = 1;\n",
    "                }\n",
    "            });\n",
    "        });\n",
    "        \n",
    "        \n",
    " //// etc, etc, etc"
   ]
  },
  {
   "cell_type": "markdown",
   "metadata": {},
   "source": [
    "When you fetch your query route you can use that returned value as your query, since it matched the values back in your database in your mongo/postgres/sql etc. "
   ]
  },
  {
   "cell_type": "code",
   "execution_count": null,
   "metadata": {
    "vscode": {
     "languageId": "javascript"
    }
   },
   "outputs": [],
   "source": [
    "// Fetch the restaurants for the selected category\n",
    "fetch(`/query_restaurants/${selectedCategory}`)    ///<<<<<<<<<<  variable for that returned value\n",
    ".then(response => response.json())\n",
    ".then(data => {\n",
    "    // Process the data and prepare it for the chart\n",
    "    const cityCount = {};\n",
    "    const locations = [];\n",
    "\n",
    "    // Count the number of restaurants per city and collect lat/lng data\n",
    "    data.forEach(restaurant => {\n",
    "        const city = restaurant.city;\n",
    "        const lat = parseFloat(restaurant.latitude);  // Convert to number\n",
    "        const lng = parseFloat(restaurant.longitude);\n",
    "\n",
    "        // Push the coordinates to the locations array for the heatmap\n",
    "        if (lat && lng && !isNaN(lat) && !isNaN(lng)) {\n",
    "            locations.push([lat, lng, 1]);  // Add intensity value\n",
    "            console.log(`Added location: ${lat}, ${lng}`);  // Debug log\n",
    "\n",
    "            ///  rest of your query result commands etc, etc, etc "
   ]
  },
  {
   "cell_type": "markdown",
   "metadata": {},
   "source": [
    "To make sure that changing the selection resets everything and repopulates anything you were making based off of it, make sure to add lines to wipe out any other elements that have been populated so that they can be repopulated. \n",
    "\n",
    "\n",
    "In our case, selecting the category is what sets off the first query and the initial generation of everything, so we were able to write 99% of everything inside the block for the dropdown event listener so that it always re-ran the chart creation and population each time. Putting this at the end allows the charts to clear and be re-populated."
   ]
  },
  {
   "cell_type": "code",
   "execution_count": null,
   "metadata": {
    "vscode": {
     "languageId": "javascript"
    }
   },
   "outputs": [],
   "source": [
    "// Delete any existing charts so they wull refresh on reselection\n",
    "if (window.myChart1 instanceof Chart) {\n",
    "    window.myChart1.destroy();\n",
    "}\n",
    "if (window.myChart2 instanceof Chart) {\n",
    "    window.myChart2.destroy();\n",
    "}"
   ]
  },
  {
   "cell_type": "markdown",
   "metadata": {},
   "source": [
    "## The pie chart regenerating from clicking the city in the bar chart"
   ]
  },
  {
   "cell_type": "markdown",
   "metadata": {},
   "source": [
    "This one is easier. There’s a ton of cool options you can add to the charts and graphs including an option for what to do when an element is clicked. We set it up to grab the city and and pass it back through as the variable for when the pie chart is made."
   ]
  },
  {
   "cell_type": "code",
   "execution_count": null,
   "metadata": {
    "vscode": {
     "languageId": "javascript"
    }
   },
   "outputs": [],
   "source": [
    "window.myChart1 = new Chart(ctx1, {\n",
    "    type: 'bar',    //<<<<<<<<<<<<<<<<<<<<<<<<<<<<<<<<<<<<<<<<<<<<<<<<<<<< On the bar chart options\n",
    "    data: {\n",
    "        labels: cities,\n",
    "        datasets: [{\n",
    "            label: `# of ${selectedCategory} restaurants`,\n",
    "            data: counts,\n",
    "            backgroundColor: 'rgba(98, 182, 239, 0.8)',\n",
    "            borderColor: 'rgba(98, 182, 239, 1)',\n",
    "            borderWidth: 1\n",
    "        }]\n",
    "    },\n",
    "    options: {\n",
    "        responsive: true,\n",
    "        maintainAspectRatio: true,\n",
    "        aspectRatio: 2,\n",
    "        indexAxis: 'y',\n",
    "        plugins: {\n",
    "            legend: {\n",
    "                labels: {\n",
    "                    font: {\n",
    "                        family: \"'Helvetica Neue', 'Arial', sans-serif\"\n",
    "                    }\n",
    "                }\n",
    "            }\n",
    "        },\n",
    "        scales: {\n",
    "            y: {\n",
    "                beginAtZero: true,\n",
    "                grid: {\n",
    "                    display: false\n",
    "                }\n",
    "            }\n",
    "        },\n",
    "        onClick: (event, elements) => {             //<<<<<<<<<<<<<<<<<<<<<<<<<<<<down here. On click, grab the city that was clicked. Store it as the variable for making the pie chart, then update the pie chart to regenerate it.\n",
    "            if (elements.length > 0) {\n",
    "                const index = elements[0].index;\n",
    "                const selectedCity = cities[index];\n",
    "                updatePieChart(data, selectedCity, selectedCategory);\n",
    "                }\n",
    "            }\n",
    "    }\n",
    "});\n"
   ]
  },
  {
   "cell_type": "markdown",
   "metadata": {},
   "source": [
    "Then we add the function for updatePieChart right after the event listener for the dropdown menu. By duplicating this as a function before the query fetch it allows us to call it and run from that point in the script using data that came from the bar chart and not the query. By making generating the chart an if statement that relies on it already being filled, we isolate that instance from running with the first selection of a category that would occur PRIOR to the query being submitted to grab the data."
   ]
  },
  {
   "cell_type": "code",
   "execution_count": null,
   "metadata": {
    "vscode": {
     "languageId": "javascript"
    }
   },
   "outputs": [],
   "source": [
    "// Event listener for dropdown changes\n",
    "document.getElementById('category-dropdown').addEventListener('change', function() {\n",
    "    const selectedCategory = this.value;\n",
    "    function updatePieChart(data, selectedCity, selectedCategory) {\n",
    "        // Get the state of the selected city\n",
    "        const cityState = data.find(r => r.city === selectedCity).state;\n",
    "        \n",
    "        // Get all restaurants in the selected city\n",
    "        const cityRestaurants = data.filter(r => r.city === selectedCity);\n",
    "    \n",
    "        // Count all categories in the city\n",
    "        const categoryCount = {};\n",
    "        cityRestaurants.forEach(restaurant => {\n",
    "            const categories = restaurant.categories.split(', ');\n",
    "            categories.forEach(category => {\n",
    "                if (categoryCount[category]) {\n",
    "                    categoryCount[category] += 1;\n",
    "                } else {\n",
    "                    categoryCount[category] = 1;\n",
    "                }\n",
    "            });\n",
    "        });\n",
    "    \n",
    "        // Get the top 5 categories\n",
    "        const top5Categories = Object.entries(categoryCount)\n",
    "            .sort((a, b) => b[1] - a[1])\n",
    "            .slice(0, 5);\n",
    "        const topCategories = top5Categories.map(item => item[0]);\n",
    "        const categoryCounts = top5Categories.map(item => item[1]);\n",
    "    \n",
    "        // Destroy old pie chart if it exists so it recreates on city click\n",
    "        if (window.myChart2 instanceof Chart) {\n",
    "            window.myChart2.destroy();\n",
    "        }\n",
    "    \n",
    "        // Create new pie chart\n",
    "        const ctx2 = document.getElementById('pieChart').getContext('2d');\n",
    "        window.myChart2 = new Chart(ctx2, {\n",
    "            type: 'pie',\n",
    "            data: {\n",
    "                labels: topCategories,\n",
    "                datasets: [{\n",
    "                    data: categoryCounts,\n",
    "                    backgroundColor: [\n",
    "                        'rgba(255, 99, 132, 0.8)',\n",
    "                        'rgba(54, 162, 235, 0.8)',\n",
    "                        'rgba(255, 206, 86, 0.8)',\n",
    "                        'rgba(75, 192, 192, 0.8)',\n",
    "                        'rgba(153, 102, 255, 0.8)'\n",
    "                    ],\n",
    "\n",
    "        /// rest of the script."
   ]
  }
 ],
 "metadata": {
  "language_info": {
   "name": "python"
  }
 },
 "nbformat": 4,
 "nbformat_minor": 2
}
