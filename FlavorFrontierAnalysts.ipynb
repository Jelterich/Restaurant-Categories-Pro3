{
 "cells": [
  {
   "cell_type": "markdown",
   "metadata": {},
   "source": [
    "# Flavor Frontier Analysts "
   ]
  },
  {
   "cell_type": "markdown",
   "metadata": {},
   "source": [
    "Import Dependencies"
   ]
  },
  {
   "cell_type": "code",
   "execution_count": 1,
   "metadata": {},
   "outputs": [],
   "source": [
    "import pandas as pd\n",
    "from pymongo import MongoClient\n",
    "from flask import Flask, jsonify, request, send_from_directory\n",
    "from flask_cors import CORS\n",
    "import json\n",
    "import webbrowser\n",
    "import os\n"
   ]
  },
  {
   "cell_type": "markdown",
   "metadata": {},
   "source": [
    "Initialize Flask App and Set Up CORS"
   ]
  },
  {
   "cell_type": "code",
   "execution_count": 2,
   "metadata": {},
   "outputs": [
    {
     "data": {
      "text/plain": [
       "<flask_cors.extension.CORS at 0x23cb6be5910>"
      ]
     },
     "execution_count": 2,
     "metadata": {},
     "output_type": "execute_result"
    }
   ],
   "source": [
    "app = Flask(__name__)\n",
    "CORS(app)"
   ]
  },
  {
   "cell_type": "markdown",
   "metadata": {},
   "source": [
    "Connect to MongoDB and Create a Database and Collection"
   ]
  },
  {
   "cell_type": "code",
   "execution_count": 54,
   "metadata": {},
   "outputs": [],
   "source": [
    "client = MongoClient(port=27017)\n",
    "db = client['yelp_database']\n",
    "collection = db['businesses']"
   ]
  },
  {
   "cell_type": "markdown",
   "metadata": {},
   "source": [
    "Import the Yelp data .json "
   ]
  },
  {
   "cell_type": "code",
   "execution_count": 55,
   "metadata": {},
   "outputs": [],
   "source": [
    "df = pd.read_json('yelp_academic_dataset_business.json', lines=True)"
   ]
  },
  {
   "cell_type": "markdown",
   "metadata": {},
   "source": [
    "Covnert the categories field to string and then filter for results that include the string \"Restaurants\" in the 'categories' column."
   ]
  },
  {
   "cell_type": "code",
   "execution_count": 57,
   "metadata": {},
   "outputs": [],
   "source": [
    "df['categories'] = df['categories'].astype(str)\n",
    "df_restaurants = df[df['categories'].str.contains('Restaurants', case=False, na=False)]"
   ]
  },
  {
   "cell_type": "markdown",
   "metadata": {},
   "source": [
    "Create two lists from strings in the 'categories' column. One list of categories that are strictly restaurants, and another for food related categories. \n",
    "These lists will be passed to serve as the user input options as well as the main query variable."
   ]
  },
  {
   "cell_type": "code",
   "execution_count": 63,
   "metadata": {},
   "outputs": [],
   "source": [
    "strict_restaurant_categories = [\n",
    "    \"Restaurants\", \"American (Traditional)\", \"American (New)\", \"Italian\", \n",
    "    \"Mexican\", \"Chinese\", \"Japanese\", \"Thai\", \"Vietnamese\", \"Indian\", \"Korean\", \n",
    "    \"Mediterranean\", \"Greek\", \"French\", \"Spanish\", \"German\", \"Irish\", \"British\", \n",
    "    \"Seafood\", \"Steakhouses\", \"Pizza\", \"Burgers\", \"Sushi Bars\", \n",
    "    \"Barbeque\", \"Asian Fusion\", \"Diners\", \"Breakfast & Brunch\", \n",
    "    \"Buffets\", \"Comfort Food\", \"Soul Food\", \"Southern\", \n",
    "    \"Tex-Mex\", \"Cajun/Creole\", \"Latin American\", \"Middle Eastern\", \"African\", \n",
    "    \"Caribbean\", \"Brazilian\", \"Peruvian\", \"Cuban\", \"Tapas Bars\", \"Gastropubs\",\n",
    "    \"Izakaya\", \"Ramen\", \"Poke\", \"Hot Pot\", \"Dim Sum\", \"Fondue\",\n",
    "    \"Fish & Chips\", \"Bistros\", \"Brasseries\",\n",
    "    \"Donairs\", \"Kebab\", \"Falafel\", \"Tacos\", \"Cheesesteaks\"\n",
    "]\n",
    "\n",
    "\n",
    "food_related_categories = [\n",
    "    \"Food\", \"Sandwiches\", \"Cafes\", \"Fast Food\", \"Pubs\", \n",
    "    \"Halal\", \"Kosher\", \"Vegan\", \"Vegetarian\",\n",
    "    \"Gluten-Free\", \"Organic\", \"Farm-to-table\", \"Food Trucks\", \"Food Stands\",\n",
    "    \"Creperies\", \"Delis\", \"Noodles\", \"Soup\", \"Salad\", \"Chicken Wings\",\n",
    "    \"Chicken Shop\", \"Hot Dogs\", \"Waffles\", \"Pancakes\", \"Donuts\", \"Bagels\",\n",
    "    \"Food\", \"Specialty Food\", \"Caterers\", \"Bakeries\", \"Desserts\", \"Juice Bars & Smoothies\",\n",
    "    \"Ice Cream & Frozen Yogurt\", \"Gelato\", \"Coffee & Tea\"\n",
    "]"
   ]
  },
  {
   "cell_type": "code",
   "execution_count": 64,
   "metadata": {},
   "outputs": [
    {
     "data": {
      "text/html": [
       "<div>\n",
       "<style scoped>\n",
       "    .dataframe tbody tr th:only-of-type {\n",
       "        vertical-align: middle;\n",
       "    }\n",
       "\n",
       "    .dataframe tbody tr th {\n",
       "        vertical-align: top;\n",
       "    }\n",
       "\n",
       "    .dataframe thead th {\n",
       "        text-align: right;\n",
       "    }\n",
       "</style>\n",
       "<table border=\"1\" class=\"dataframe\">\n",
       "  <thead>\n",
       "    <tr style=\"text-align: right;\">\n",
       "      <th></th>\n",
       "      <th>business_id</th>\n",
       "      <th>name</th>\n",
       "      <th>city</th>\n",
       "      <th>state</th>\n",
       "      <th>latitude</th>\n",
       "      <th>longitude</th>\n",
       "      <th>categories</th>\n",
       "      <th>stars</th>\n",
       "    </tr>\n",
       "  </thead>\n",
       "  <tbody>\n",
       "    <tr>\n",
       "      <th>3</th>\n",
       "      <td>MTSW4McQd7CbVtyjqoe9mw</td>\n",
       "      <td>St Honore Pastries</td>\n",
       "      <td>Philadelphia</td>\n",
       "      <td>PA</td>\n",
       "      <td>39.955505</td>\n",
       "      <td>-75.155564</td>\n",
       "      <td>Restaurants, Food, Bubble Tea, Coffee &amp; Tea, B...</td>\n",
       "      <td>4.0</td>\n",
       "    </tr>\n",
       "    <tr>\n",
       "      <th>5</th>\n",
       "      <td>CF33F8-E6oudUQ46HnavjQ</td>\n",
       "      <td>Sonic Drive-In</td>\n",
       "      <td>Ashland City</td>\n",
       "      <td>TN</td>\n",
       "      <td>36.269593</td>\n",
       "      <td>-87.058943</td>\n",
       "      <td>Burgers, Fast Food, Sandwiches, Food, Ice Crea...</td>\n",
       "      <td>2.0</td>\n",
       "    </tr>\n",
       "    <tr>\n",
       "      <th>8</th>\n",
       "      <td>k0hlBqXX-Bt0vf1op7Jr1w</td>\n",
       "      <td>Tsevi's Pub And Grill</td>\n",
       "      <td>Affton</td>\n",
       "      <td>MO</td>\n",
       "      <td>38.565165</td>\n",
       "      <td>-90.321087</td>\n",
       "      <td>Pubs, Restaurants, Italian, Bars, American (Tr...</td>\n",
       "      <td>3.0</td>\n",
       "    </tr>\n",
       "    <tr>\n",
       "      <th>9</th>\n",
       "      <td>bBDDEgkFA1Otx9Lfe7BZUQ</td>\n",
       "      <td>Sonic Drive-In</td>\n",
       "      <td>Nashville</td>\n",
       "      <td>TN</td>\n",
       "      <td>36.208102</td>\n",
       "      <td>-86.768170</td>\n",
       "      <td>Ice Cream &amp; Frozen Yogurt, Fast Food, Burgers,...</td>\n",
       "      <td>1.5</td>\n",
       "    </tr>\n",
       "    <tr>\n",
       "      <th>11</th>\n",
       "      <td>eEOYSgkmpB90uNA7lDOMRA</td>\n",
       "      <td>Vietnamese Food Truck</td>\n",
       "      <td>Tampa Bay</td>\n",
       "      <td>FL</td>\n",
       "      <td>27.955269</td>\n",
       "      <td>-82.456320</td>\n",
       "      <td>Vietnamese, Food, Restaurants, Food Trucks</td>\n",
       "      <td>4.0</td>\n",
       "    </tr>\n",
       "  </tbody>\n",
       "</table>\n",
       "</div>"
      ],
      "text/plain": [
       "               business_id                   name          city state  \\\n",
       "3   MTSW4McQd7CbVtyjqoe9mw     St Honore Pastries  Philadelphia    PA   \n",
       "5   CF33F8-E6oudUQ46HnavjQ         Sonic Drive-In  Ashland City    TN   \n",
       "8   k0hlBqXX-Bt0vf1op7Jr1w  Tsevi's Pub And Grill        Affton    MO   \n",
       "9   bBDDEgkFA1Otx9Lfe7BZUQ         Sonic Drive-In     Nashville    TN   \n",
       "11  eEOYSgkmpB90uNA7lDOMRA  Vietnamese Food Truck     Tampa Bay    FL   \n",
       "\n",
       "     latitude  longitude                                         categories  \\\n",
       "3   39.955505 -75.155564  Restaurants, Food, Bubble Tea, Coffee & Tea, B...   \n",
       "5   36.269593 -87.058943  Burgers, Fast Food, Sandwiches, Food, Ice Crea...   \n",
       "8   38.565165 -90.321087  Pubs, Restaurants, Italian, Bars, American (Tr...   \n",
       "9   36.208102 -86.768170  Ice Cream & Frozen Yogurt, Fast Food, Burgers,...   \n",
       "11  27.955269 -82.456320         Vietnamese, Food, Restaurants, Food Trucks   \n",
       "\n",
       "    stars  \n",
       "3     4.0  \n",
       "5     2.0  \n",
       "8     3.0  \n",
       "9     1.5  \n",
       "11    4.0  "
      ]
     },
     "execution_count": 64,
     "metadata": {},
     "output_type": "execute_result"
    }
   ],
   "source": [
    " # Select relevant columns\n",
    "df_restaurants_clean = df_restaurants[['business_id', 'name', 'city', 'state', 'latitude', 'longitude', 'categories', 'stars']]\n",
    "df_restaurants_clean.head()"
   ]
  },
  {
   "cell_type": "code",
   "execution_count": 65,
   "metadata": {},
   "outputs": [],
   "source": [
    "# collection.delete_many({})"
   ]
  },
  {
   "cell_type": "code",
   "execution_count": 66,
   "metadata": {},
   "outputs": [
    {
     "name": "stdout",
     "output_type": "stream",
     "text": [
      "Data already exists in MongoDB.\n"
     ]
    }
   ],
   "source": [
    "# Connect to MongoDB\n",
    "if collection.count_documents({}) == 0:\n",
    "    records = df_restaurants_clean.to_dict('records')\n",
    "    collection.insert_many(records)\n",
    "    print(\"Data loaded into MongoDB successfully.\")\n",
    "else:\n",
    "    print(\"Data already exists in MongoDB.\")"
   ]
  },
  {
   "cell_type": "code",
   "execution_count": 67,
   "metadata": {},
   "outputs": [],
   "source": [
    "# Setup flask api routes\n",
    "@app.route('/categories', methods=['GET'])\n",
    "def get_categories():\n",
    "    return jsonify({\n",
    "        'strict_restaurant_categories': strict_restaurant_categories\n",
    "    })\n"
   ]
  },
  {
   "cell_type": "code",
   "execution_count": 68,
   "metadata": {},
   "outputs": [],
   "source": [
    "\n",
    "@app.route('/query_restaurants/<category>', methods=['GET'])\n",
    "def query_restaurants(category):\n",
    "    query = {\"categories\": {'$regex': category, '$options': 'i'}}\n",
    "\n",
    "    # Get results from MongoDB\n",
    "    results = list(collection.find(query))\n",
    "\n",
    "    # Convert ObjectId to string for JSON serialization\n",
    "    for result in results:\n",
    "        result['_id'] = str(result['_id'])\n",
    "\n",
    "    return jsonify(results)\n"
   ]
  },
  {
   "cell_type": "code",
   "execution_count": 69,
   "metadata": {},
   "outputs": [],
   "source": [
    "base_dir = os.path.dirname(os.path.abspath(__file__))\n",
    "# Serve HTML file\n",
    "@app.route('/')\n",
    "def serve_html():\n",
    "    return send_from_directory(base_dir, 'index.html')\n",
    "\n",
    "# Serve JavaScript file\n",
    "@app.route('/<path:path>')\n",
    "def serve_file(path):\n",
    "    return send_from_directory(base_dir, path)"
   ]
  },
  {
   "cell_type": "code",
   "execution_count": 73,
   "metadata": {},
   "outputs": [
    {
     "name": "stdout",
     "output_type": "stream",
     "text": [
      " * Serving Flask app '__main__'\n",
      " * Debug mode: off\n"
     ]
    },
    {
     "name": "stderr",
     "output_type": "stream",
     "text": [
      "WARNING: This is a development server. Do not use it in a production deployment. Use a production WSGI server instead.\n",
      " * Running on http://127.0.0.1:5000\n",
      "Press CTRL+C to quit\n",
      "[2024-10-22 02:54:46,399] ERROR in app: Exception on / [GET]\n",
      "Traceback (most recent call last):\n",
      "  File \"c:\\Users\\AdamKarner\\anaconda3\\Lib\\site-packages\\flask\\app.py\", line 1473, in wsgi_app\n",
      "    response = self.full_dispatch_request()\n",
      "               ^^^^^^^^^^^^^^^^^^^^^^^^^^^^\n",
      "  File \"c:\\Users\\AdamKarner\\anaconda3\\Lib\\site-packages\\flask\\app.py\", line 882, in full_dispatch_request\n",
      "    rv = self.handle_user_exception(e)\n",
      "         ^^^^^^^^^^^^^^^^^^^^^^^^^^^^^\n",
      "  File \"c:\\Users\\AdamKarner\\anaconda3\\Lib\\site-packages\\flask_cors\\extension.py\", line 194, in wrapped_function\n",
      "    return cors_after_request(app.make_response(f(*args, **kwargs)))\n",
      "                                                ^^^^^^^^^^^^^^^^^^\n",
      "  File \"c:\\Users\\AdamKarner\\anaconda3\\Lib\\site-packages\\flask\\app.py\", line 880, in full_dispatch_request\n",
      "    rv = self.dispatch_request()\n",
      "         ^^^^^^^^^^^^^^^^^^^^^^^\n",
      "  File \"c:\\Users\\AdamKarner\\anaconda3\\Lib\\site-packages\\flask\\app.py\", line 865, in dispatch_request\n",
      "    return self.ensure_sync(self.view_functions[rule.endpoint])(**view_args)  # type: ignore[no-any-return]\n",
      "           ^^^^^^^^^^^^^^^^^^^^^^^^^^^^^^^^^^^^^^^^^^^^^^^^^^^^^^^^^^^^^^^^^\n",
      "  File \"C:\\Users\\AdamKarner\\AppData\\Local\\Temp\\ipykernel_19328\\4060911084.py\", line 4, in serve_html\n",
      "    return send_from_directory(base_dir, 'index.html')\n",
      "                               ^^^^^^^^\n",
      "NameError: name 'base_dir' is not defined\n",
      "127.0.0.1 - - [22/Oct/2024 02:54:46] \"GET / HTTP/1.1\" 500 -\n"
     ]
    }
   ],
   "source": [
    "# webbrowser.open('http://localhost:5000/')\n",
    "if __name__ == '__main__':\n",
    "    app.run(debug=True)\n"
   ]
  }
 ],
 "metadata": {
  "kernelspec": {
   "display_name": "base",
   "language": "python",
   "name": "python3"
  },
  "language_info": {
   "codemirror_mode": {
    "name": "ipython",
    "version": 3
   },
   "file_extension": ".py",
   "mimetype": "text/x-python",
   "name": "python",
   "nbconvert_exporter": "python",
   "pygments_lexer": "ipython3",
   "version": "3.12.3"
  }
 },
 "nbformat": 4,
 "nbformat_minor": 2
}
