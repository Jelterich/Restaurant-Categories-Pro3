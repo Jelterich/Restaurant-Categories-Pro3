{
 "cells": [
  {
   "cell_type": "markdown",
   "metadata": {},
   "source": [
    "# Flavor Frontier Analysts "
   ]
  },
  {
   "cell_type": "markdown",
   "metadata": {},
   "source": [
    "Import Dependencies"
   ]
  },
  {
   "cell_type": "code",
   "execution_count": 1,
   "metadata": {},
   "outputs": [],
   "source": [
    "import pandas as pd\n",
    "from pymongo import MongoClient\n",
    "from flask import Flask, jsonify, request, send_from_directory\n",
    "from flask_cors import CORS\n",
    "import json\n",
    "import webbrowser\n",
    "import os\n"
   ]
  },
  {
   "cell_type": "markdown",
   "metadata": {},
   "source": [
    "Initialize Flask App and Set Up CORS"
   ]
  },
  {
   "cell_type": "code",
   "execution_count": null,
   "metadata": {},
   "outputs": [],
   "source": [
    "app = Flask(__name__)\n",
    "CORS(app)"
   ]
  },
  {
   "cell_type": "markdown",
   "metadata": {},
   "source": [
    "Connect to MongoDB and Create a Database and Collection"
   ]
  },
  {
   "cell_type": "code",
   "execution_count": 54,
   "metadata": {},
   "outputs": [],
   "source": [
    "client = MongoClient(port=27017)\n",
    "db = client['yelp_database']\n",
    "collection = db['businesses']"
   ]
  },
  {
   "cell_type": "markdown",
   "metadata": {},
   "source": [
    "Import the Yelp data .json "
   ]
  },
  {
   "cell_type": "code",
   "execution_count": 55,
   "metadata": {},
   "outputs": [],
   "source": [
    "df = pd.read_json('yelp_academic_dataset_business.json', lines=True)"
   ]
  },
  {
   "cell_type": "markdown",
   "metadata": {},
   "source": [
    "Covnert the categories field to string and then filter for results that include the string \"Restaurants\" in the 'categories' column."
   ]
  },
  {
   "cell_type": "code",
   "execution_count": 57,
   "metadata": {},
   "outputs": [],
   "source": [
    "df['categories'] = df['categories'].astype(str)\n",
    "df_restaurants = df[df['categories'].str.contains('Restaurants', case=False, na=False)]"
   ]
  },
  {
   "cell_type": "markdown",
   "metadata": {},
   "source": [
    "Create two lists from strings in the 'categories' column. One list of categories that are strictly restaurants, and another for food related categories. \n",
    "These lists will be passed to serve as the user input options as well as the main query variable."
   ]
  },
  {
   "cell_type": "code",
   "execution_count": 63,
   "metadata": {},
   "outputs": [],
   "source": [
    "strict_restaurant_categories = [\n",
    "    \"Restaurants\", \"American (Traditional)\", \"American (New)\", \"Italian\", \n",
    "    \"Mexican\", \"Chinese\", \"Japanese\", \"Thai\", \"Vietnamese\", \"Indian\", \"Korean\", \n",
    "    \"Mediterranean\", \"Greek\", \"French\", \"Spanish\", \"German\", \"Irish\", \"British\", \n",
    "    \"Seafood\", \"Steakhouses\", \"Pizza\", \"Burgers\", \"Sushi Bars\", \n",
    "    \"Barbeque\", \"Asian Fusion\", \"Diners\", \"Breakfast & Brunch\", \n",
    "    \"Buffets\", \"Comfort Food\", \"Soul Food\", \"Southern\", \n",
    "    \"Tex-Mex\", \"Cajun/Creole\", \"Latin American\", \"Middle Eastern\", \"African\", \n",
    "    \"Caribbean\", \"Brazilian\", \"Peruvian\", \"Cuban\", \"Tapas Bars\", \"Gastropubs\",\n",
    "    \"Izakaya\", \"Ramen\", \"Poke\", \"Hot Pot\", \"Dim Sum\", \"Fondue\",\n",
    "    \"Fish & Chips\", \"Bistros\", \"Brasseries\",\n",
    "    \"Donairs\", \"Kebab\", \"Falafel\", \"Tacos\", \"Cheesesteaks\"\n",
    "]\n",
    "\n",
    "\n",
    "food_related_categories = [\n",
    "    \"Food\", \"Sandwiches\", \"Cafes\", \"Fast Food\", \"Pubs\", \n",
    "    \"Halal\", \"Kosher\", \"Vegan\", \"Vegetarian\",\n",
    "    \"Gluten-Free\", \"Organic\", \"Farm-to-table\", \"Food Trucks\", \"Food Stands\",\n",
    "    \"Creperies\", \"Delis\", \"Noodles\", \"Soup\", \"Salad\", \"Chicken Wings\",\n",
    "    \"Chicken Shop\", \"Hot Dogs\", \"Waffles\", \"Pancakes\", \"Donuts\", \"Bagels\",\n",
    "    \"Food\", \"Specialty Food\", \"Caterers\", \"Bakeries\", \"Desserts\", \"Juice Bars & Smoothies\",\n",
    "    \"Ice Cream & Frozen Yogurt\", \"Gelato\", \"Coffee & Tea\"\n",
    "]"
   ]
  },
  {
   "cell_type": "markdown",
   "metadata": {},
   "source": [
    "Created cleaned dataframe with only relevent columns"
   ]
  },
  {
   "cell_type": "code",
   "execution_count": null,
   "metadata": {},
   "outputs": [],
   "source": [
    "df_restaurants_clean = df_restaurants[['business_id', 'name', 'city', 'state', 'latitude', 'longitude', 'categories', 'stars']]"
   ]
  },
  {
   "cell_type": "markdown",
   "metadata": {},
   "source": [
    "## Delete any existing data from previous runs and setup Mongo"
   ]
  },
  {
   "cell_type": "code",
   "execution_count": 65,
   "metadata": {},
   "outputs": [],
   "source": [
    "collection.delete_many({})"
   ]
  },
  {
   "cell_type": "code",
   "execution_count": null,
   "metadata": {},
   "outputs": [],
   "source": [
    "if collection.count_documents({}) == 0:\n",
    "    records = df_restaurants_clean.to_dict('records')\n",
    "    collection.insert_many(records)\n",
    "    print(\"Data loaded into MongoDB successfully.\")\n",
    "else:\n",
    "    print(\"Data already exists in MongoDB.\")"
   ]
  },
  {
   "cell_type": "markdown",
   "metadata": {},
   "source": [
    "## Setup flask api routes"
   ]
  },
  {
   "cell_type": "markdown",
   "metadata": {},
   "source": [
    "Categories route"
   ]
  },
  {
   "cell_type": "code",
   "execution_count": 67,
   "metadata": {},
   "outputs": [],
   "source": [
    "@app.route('/categories', methods=['GET'])\n",
    "def get_categories():\n",
    "    return jsonify({\n",
    "        'strict_restaurant_categories': strict_restaurant_categories\n",
    "    })\n"
   ]
  },
  {
   "cell_type": "markdown",
   "metadata": {},
   "source": [
    "Query restaurant route"
   ]
  },
  {
   "cell_type": "code",
   "execution_count": 68,
   "metadata": {},
   "outputs": [],
   "source": [
    "\n",
    "@app.route('/query_restaurants/<category>', methods=['GET'])\n",
    "def query_restaurants(category):\n",
    "    query = {\"categories\": {'$regex': category, '$options': 'i'}}\n",
    "\n",
    "    results = list(collection.find(query))\n",
    "\n",
    "    # Convert ObjectId to string for JSON serialization <------- important.\n",
    "    for result in results:\n",
    "        result['_id'] = str(result['_id'])\n",
    "\n",
    "    return jsonify(results)\n"
   ]
  },
  {
   "cell_type": "markdown",
   "metadata": {},
   "source": [
    "Serve the .html and the "
   ]
  },
  {
   "cell_type": "code",
   "execution_count": 69,
   "metadata": {},
   "outputs": [],
   "source": [
    "base_dir = os.path.dirname(os.path.abspath(__file__))\n",
    "# Serve HTML file\n",
    "@app.route('/')\n",
    "def serve_html():\n",
    "    return send_from_directory(base_dir, 'index.html')\n",
    "\n",
    "# Serve JavaScript file\n",
    "@app.route('/<path:path>')\n",
    "def serve_file(path):\n",
    "    return send_from_directory(base_dir, path)"
   ]
  },
  {
   "cell_type": "markdown",
   "metadata": {},
   "source": [
    "Open the web browser"
   ]
  },
  {
   "cell_type": "code",
   "execution_count": null,
   "metadata": {},
   "outputs": [],
   "source": [
    "webbrowser.open('http://localhost:5000/')\n",
    "if __name__ == '__main__':\n",
    "    app.run(debug=True)\n"
   ]
  }
 ],
 "metadata": {
  "kernelspec": {
   "display_name": "base",
   "language": "python",
   "name": "python3"
  },
  "language_info": {
   "codemirror_mode": {
    "name": "ipython",
    "version": 3
   },
   "file_extension": ".py",
   "mimetype": "text/x-python",
   "name": "python",
   "nbconvert_exporter": "python",
   "pygments_lexer": "ipython3",
   "version": "3.12.3"
  }
 },
 "nbformat": 4,
 "nbformat_minor": 2
}
